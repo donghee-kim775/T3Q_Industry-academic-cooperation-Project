{
 "cells": [
  {
   "cell_type": "code",
   "execution_count": 2,
   "metadata": {},
   "outputs": [],
   "source": [
    "#-*- coding: utf-8 -*-\n",
    "import pandas as pd\n",
    "import json"
   ]
  },
  {
   "cell_type": "code",
   "execution_count": null,
   "metadata": {},
   "outputs": [],
   "source": [
    "def DataProcessing(value):\n",
    "    print(\"###data 전처리 시작###\")\n",
    "    origin_data = value['data'][0][0]\n",
    "    print(\"## origin_data ##\")\n",
    "    print(origin_data)\n",
    "    try :\n",
    "        experiment_data = origin_data['experiment data']\n",
    "        experiment_data = pd.DataFrame(experiment_data)\n",
    "        experiment_data = experiment_data.astype(int)\n",
    "    \n",
    "\n",
    "        # formulation data 전처리\n",
    "        input = origin_data['formulation']\n",
    "\n",
    "        # 딕셔너리 리스트를 DataFrame으로 변환\n",
    "        input_df = pd.DataFrame(input)\n",
    "        \n",
    "        # excipients replace(공백 -> .) : R에서는 공백 있을 시 error\n",
    "        input_df['excipients'] = input_df['excipients'].apply(lambda x: x.replace(\" \", \".\"))\n",
    "\n",
    "        input_df['input.range.min'] = input_df['input range'].apply(lambda x: x['min'])\n",
    "        input_df['input.range.max'] = input_df['input range'].apply(lambda x: x['max'])\n",
    "\n",
    "        input_df = input_df.drop(columns = ['kind', 'max', 'use range', 'input range'])\n",
    "\n",
    "        input_df['input.range.min'] = input_df['input.range.min'].astype(int)\n",
    "        input_df['input.range.max'] = input_df['input.range.max'].astype(int)\n",
    "    except Exception as e:\n",
    "        print(e)\n",
    "        \n",
    "    print(\"### 데이터 최종 전처리 결과 ###\")\n",
    "    print(experiment_data)\n",
    "    print(input_df)\n",
    "    \n",
    "    return experiment_data, input_df"
   ]
  },
  {
   "cell_type": "code",
   "execution_count": 16,
   "metadata": {},
   "outputs": [
    {
     "ename": "TypeError",
     "evalue": "list indices must be integers or slices, not str",
     "output_type": "error",
     "traceback": [
      "\u001b[1;31m---------------------------------------------------------------------------\u001b[0m",
      "\u001b[1;31mTypeError\u001b[0m                                 Traceback (most recent call last)",
      "Cell \u001b[1;32mIn[16], line 4\u001b[0m\n\u001b[0;32m      1\u001b[0m \u001b[38;5;28;01mwith\u001b[39;00m \u001b[38;5;28mopen\u001b[39m(\u001b[38;5;124m'\u001b[39m\u001b[38;5;124m./data2.json\u001b[39m\u001b[38;5;124m'\u001b[39m, \u001b[38;5;124m'\u001b[39m\u001b[38;5;124mr\u001b[39m\u001b[38;5;124m'\u001b[39m) \u001b[38;5;28;01mas\u001b[39;00m f:\n\u001b[0;32m      2\u001b[0m     data \u001b[38;5;241m=\u001b[39m json\u001b[38;5;241m.\u001b[39mload(f)\n\u001b[1;32m----> 4\u001b[0m origin_data \u001b[38;5;241m=\u001b[39m \u001b[43mdata\u001b[49m\u001b[43m[\u001b[49m\u001b[38;5;124;43m'\u001b[39;49m\u001b[38;5;124;43mdata\u001b[39;49m\u001b[38;5;124;43m'\u001b[39;49m\u001b[43m]\u001b[49m\u001b[43m[\u001b[49m\u001b[38;5;124;43m'\u001b[39;49m\u001b[38;5;124;43mheader\u001b[39;49m\u001b[38;5;124;43m'\u001b[39;49m\u001b[43m]\u001b[49m\n\u001b[0;32m      6\u001b[0m origin_data\n",
      "\u001b[1;31mTypeError\u001b[0m: list indices must be integers or slices, not str"
     ]
    }
   ],
   "source": [
    "with open('./data2.json', 'r') as f:\n",
    "    data = json.load(f)\n",
    "\n",
    "origin_data = data['data']['header']\n",
    "\n",
    "origin_data"
   ]
  },
  {
   "cell_type": "code",
   "execution_count": 8,
   "metadata": {},
   "outputs": [
    {
     "data": {
      "text/plain": [
       "[{'appearance': ['7',\n",
       "   '10',\n",
       "   '6',\n",
       "   '10',\n",
       "   '11',\n",
       "   '4',\n",
       "   '3',\n",
       "   '10',\n",
       "   '4',\n",
       "   '3',\n",
       "   '44',\n",
       "   '10',\n",
       "   '20',\n",
       "   '7']},\n",
       " {'identification': ['8',\n",
       "   '5',\n",
       "   '7',\n",
       "   '6',\n",
       "   '2',\n",
       "   '4',\n",
       "   '8',\n",
       "   '5',\n",
       "   '2',\n",
       "   '4',\n",
       "   '5',\n",
       "   '5',\n",
       "   '1',\n",
       "   '9']},\n",
       " {'assay': ['9',\n",
       "   '8',\n",
       "   '8',\n",
       "   '8',\n",
       "   '6',\n",
       "   '7',\n",
       "   '9',\n",
       "   '7',\n",
       "   '6',\n",
       "   '3',\n",
       "   '7',\n",
       "   '7',\n",
       "   '5',\n",
       "   '3']}]"
      ]
     },
     "execution_count": 8,
     "metadata": {},
     "output_type": "execute_result"
    }
   ],
   "source": [
    "experiment_data = origin_data['experiment data']\n",
    "\n",
    "experiment_data"
   ]
  },
  {
   "cell_type": "code",
   "execution_count": 12,
   "metadata": {},
   "outputs": [
    {
     "data": {
      "text/html": [
       "<div>\n",
       "<style scoped>\n",
       "    .dataframe tbody tr th:only-of-type {\n",
       "        vertical-align: middle;\n",
       "    }\n",
       "\n",
       "    .dataframe tbody tr th {\n",
       "        vertical-align: top;\n",
       "    }\n",
       "\n",
       "    .dataframe thead th {\n",
       "        text-align: right;\n",
       "    }\n",
       "</style>\n",
       "<table border=\"1\" class=\"dataframe\">\n",
       "  <thead>\n",
       "    <tr style=\"text-align: right;\">\n",
       "      <th></th>\n",
       "      <th>appearance</th>\n",
       "      <th>identification</th>\n",
       "      <th>assay</th>\n",
       "    </tr>\n",
       "  </thead>\n",
       "  <tbody>\n",
       "    <tr>\n",
       "      <th>0</th>\n",
       "      <td>7</td>\n",
       "      <td>8</td>\n",
       "      <td>9</td>\n",
       "    </tr>\n",
       "    <tr>\n",
       "      <th>1</th>\n",
       "      <td>10</td>\n",
       "      <td>5</td>\n",
       "      <td>8</td>\n",
       "    </tr>\n",
       "    <tr>\n",
       "      <th>2</th>\n",
       "      <td>6</td>\n",
       "      <td>7</td>\n",
       "      <td>8</td>\n",
       "    </tr>\n",
       "    <tr>\n",
       "      <th>3</th>\n",
       "      <td>10</td>\n",
       "      <td>6</td>\n",
       "      <td>8</td>\n",
       "    </tr>\n",
       "    <tr>\n",
       "      <th>4</th>\n",
       "      <td>11</td>\n",
       "      <td>2</td>\n",
       "      <td>6</td>\n",
       "    </tr>\n",
       "    <tr>\n",
       "      <th>5</th>\n",
       "      <td>4</td>\n",
       "      <td>4</td>\n",
       "      <td>7</td>\n",
       "    </tr>\n",
       "    <tr>\n",
       "      <th>6</th>\n",
       "      <td>3</td>\n",
       "      <td>8</td>\n",
       "      <td>9</td>\n",
       "    </tr>\n",
       "    <tr>\n",
       "      <th>7</th>\n",
       "      <td>10</td>\n",
       "      <td>5</td>\n",
       "      <td>7</td>\n",
       "    </tr>\n",
       "    <tr>\n",
       "      <th>8</th>\n",
       "      <td>4</td>\n",
       "      <td>2</td>\n",
       "      <td>6</td>\n",
       "    </tr>\n",
       "    <tr>\n",
       "      <th>9</th>\n",
       "      <td>3</td>\n",
       "      <td>4</td>\n",
       "      <td>3</td>\n",
       "    </tr>\n",
       "    <tr>\n",
       "      <th>10</th>\n",
       "      <td>44</td>\n",
       "      <td>5</td>\n",
       "      <td>7</td>\n",
       "    </tr>\n",
       "    <tr>\n",
       "      <th>11</th>\n",
       "      <td>10</td>\n",
       "      <td>5</td>\n",
       "      <td>7</td>\n",
       "    </tr>\n",
       "    <tr>\n",
       "      <th>12</th>\n",
       "      <td>20</td>\n",
       "      <td>1</td>\n",
       "      <td>5</td>\n",
       "    </tr>\n",
       "    <tr>\n",
       "      <th>13</th>\n",
       "      <td>7</td>\n",
       "      <td>9</td>\n",
       "      <td>3</td>\n",
       "    </tr>\n",
       "  </tbody>\n",
       "</table>\n",
       "</div>"
      ],
      "text/plain": [
       "    appearance  identification  assay\n",
       "0            7               8      9\n",
       "1           10               5      8\n",
       "2            6               7      8\n",
       "3           10               6      8\n",
       "4           11               2      6\n",
       "5            4               4      7\n",
       "6            3               8      9\n",
       "7           10               5      7\n",
       "8            4               2      6\n",
       "9            3               4      3\n",
       "10          44               5      7\n",
       "11          10               5      7\n",
       "12          20               1      5\n",
       "13           7               9      3"
      ]
     },
     "execution_count": 12,
     "metadata": {},
     "output_type": "execute_result"
    }
   ],
   "source": [
    "experiment_data = origin_data['experiment data']\n",
    "\n",
    "df_data = {}\n",
    "for item in experiment_data:\n",
    "    for key, value in item.items():\n",
    "        df_data[key] = value\n",
    "\n",
    "        # 데이터프레임 생성\n",
    "experiment_data = pd.DataFrame(df_data)\n",
    "experiment_data = experiment_data.astype(int)\n",
    "\n",
    "experiment_data"
   ]
  },
  {
   "cell_type": "code",
   "execution_count": null,
   "metadata": {},
   "outputs": [],
   "source": [
    "            #############\n",
    "            ##-effects-##\n",
    "            #############\n",
    "            y_list = value['data']['header']\n",
    "\n",
    "            # min max 추출\n",
    "            range_list = []\n",
    "            for i in range(len(y_list)):\n",
    "                y_value = y_list[i]\n",
    "                convert_y_list = experiment_data[y_value].tolist()\n",
    "\n",
    "                # min값 y값 추출\n",
    "                min_value = min(convert_y_list)\n",
    "                max_value = max(convert_y_list)\n",
    "\n",
    "                # min / max -> int? float?\n",
    "                # float -> 소수 세번째 자리\n",
    "                ## min ##\n",
    "                if isinstance(min_value, int):\n",
    "                    pass\n",
    "                else:\n",
    "                    min_value = round(min_value, 2)\n",
    "                ## max ##\n",
    "                if isinstance(max_value, int):\n",
    "                    pass\n",
    "                else:\n",
    "                    min_value = round(max_value, 2)\n",
    "\n",
    "                range_dict = {}\n",
    "                range_dict['min'] = min_value\n",
    "                range_dict['max'] = max_value\n",
    "\n",
    "                range_list.append(range_dict)\n",
    "\n",
    "            # CQA\n",
    "            range_str_list = []\n",
    "            \n",
    "            # range value\n",
    "            result_range_list = []\n",
    "\n",
    "            for z in range(len(y_list)):\n",
    "                range_str_list.append(y_list[z])\n",
    "                result_range_list.append(range_list[z])\n",
    "                effect_range_dict = dict(zip(range_str_list, result_range_list))\n",
    "            \n",
    "            effect_list = []\n",
    "            effect_range_dict = list(effect_range_dict.items())\n",
    "            for f in range(len(y_list)):\n",
    "                new_dict = {}\n",
    "                y_str = \"Y%d\" % (f+1)\n",
    "                new_dict[y_str] = {effect_range_dict[f][0] : effect_range_dict[f][1]}\n",
    "                effect_list.append(new_dict)\n",
    "                    "
   ]
  },
  {
   "cell_type": "code",
   "execution_count": 17,
   "metadata": {},
   "outputs": [],
   "source": [
    "import pandas as pd"
   ]
  },
  {
   "cell_type": "code",
   "execution_count": 21,
   "metadata": {},
   "outputs": [
    {
     "data": {
      "text/html": [
       "<div>\n",
       "<style scoped>\n",
       "    .dataframe tbody tr th:only-of-type {\n",
       "        vertical-align: middle;\n",
       "    }\n",
       "\n",
       "    .dataframe tbody tr th {\n",
       "        vertical-align: top;\n",
       "    }\n",
       "\n",
       "    .dataframe thead th {\n",
       "        text-align: right;\n",
       "    }\n",
       "</style>\n",
       "<table border=\"1\" class=\"dataframe\">\n",
       "  <thead>\n",
       "    <tr style=\"text-align: right;\">\n",
       "      <th></th>\n",
       "      <th>image_type</th>\n",
       "      <th>image_name</th>\n",
       "      <th>image_to_text</th>\n",
       "    </tr>\n",
       "  </thead>\n",
       "  <tbody>\n",
       "    <tr>\n",
       "      <th>0</th>\n",
       "      <td>contour</td>\n",
       "      <td>1_1</td>\n",
       "      <td>a</td>\n",
       "    </tr>\n",
       "    <tr>\n",
       "      <th>1</th>\n",
       "      <td>contour</td>\n",
       "      <td>1_2</td>\n",
       "      <td>b</td>\n",
       "    </tr>\n",
       "    <tr>\n",
       "      <th>2</th>\n",
       "      <td>pareto</td>\n",
       "      <td>2_1</td>\n",
       "      <td>a</td>\n",
       "    </tr>\n",
       "    <tr>\n",
       "      <th>3</th>\n",
       "      <td>pareto</td>\n",
       "      <td>2_2</td>\n",
       "      <td>b</td>\n",
       "    </tr>\n",
       "    <tr>\n",
       "      <th>4</th>\n",
       "      <td>response</td>\n",
       "      <td>3_1</td>\n",
       "      <td>a</td>\n",
       "    </tr>\n",
       "    <tr>\n",
       "      <th>5</th>\n",
       "      <td>response</td>\n",
       "      <td>3_2</td>\n",
       "      <td>b</td>\n",
       "    </tr>\n",
       "  </tbody>\n",
       "</table>\n",
       "</div>"
      ],
      "text/plain": [
       "  image_type image_name image_to_text\n",
       "0    contour        1_1             a\n",
       "1    contour        1_2             b\n",
       "2     pareto        2_1             a\n",
       "3     pareto        2_2             b\n",
       "4   response        3_1             a\n",
       "5   response        3_2             b"
      ]
     },
     "execution_count": 21,
     "metadata": {},
     "output_type": "execute_result"
    }
   ],
   "source": [
    "image_df = pd.read_csv(\"./rseponse.csv\")\n",
    "image_df"
   ]
  },
  {
   "cell_type": "code",
   "execution_count": 27,
   "metadata": {},
   "outputs": [
    {
     "name": "stdout",
     "output_type": "stream",
     "text": [
      "{'contour': [{'image_name': ' 1_1', 'image_to_base64': ' a'}, {'image_name': ' 1_2', 'image_to_base64': ' b'}], 'pareto': [{'image_name': ' 2_1', 'image_to_base64': ' a'}, {'image_name': ' 2_2', 'image_to_base64': ' b'}], 'response': [{'image_name': ' 3_1', 'image_to_base64': ' a'}, {'image_name': ' 3_2', 'image_to_base64': ' b'}]}\n"
     ]
    }
   ],
   "source": [
    "# Initialize the result dictionary\n",
    "image_result = {}\n",
    "\n",
    "# Iterate through each row in the DataFrame\n",
    "for _, row in image_df.iterrows():\n",
    "    image_type = row['image_type']\n",
    "    \n",
    "    # If image_type is not in the result dictionary, initialize it with an empty list\n",
    "    if image_type not in image_result:\n",
    "        image_result[image_type] = []\n",
    "\n",
    "    # Append the current row's data as a dictionary to the list\n",
    "    image_result[image_type].append({\n",
    "        'image_name': row['image_name'],\n",
    "        'image_to_base64': row['image_to_text']\n",
    "    })\n",
    "\n",
    "print(image_result)\n"
   ]
  },
  {
   "cell_type": "code",
   "execution_count": 48,
   "metadata": {},
   "outputs": [],
   "source": [
    "users = [\n",
    "    {'name' : '머쓱이', 'part' : 'AI', 'pay' : 50000},\n",
    "    {'name' : '스펜서', 'part' : 'AI', 'pay' : 30000},\n",
    "    {'name' : '로글이', 'part' : 'AI', 'pay' : 50000}\n",
    "]"
   ]
  },
  {
   "cell_type": "code",
   "execution_count": 41,
   "metadata": {},
   "outputs": [
    {
     "ename": "SyntaxError",
     "evalue": "invalid syntax (2627623230.py, line 4)",
     "output_type": "error",
     "traceback": [
      "\u001b[1;36m  Cell \u001b[1;32mIn[41], line 4\u001b[1;36m\u001b[0m\n\u001b[1;33m    user['스펜서' == user['name'] for user in users:] += 35000\u001b[0m\n\u001b[1;37m                               ^\u001b[0m\n\u001b[1;31mSyntaxError\u001b[0m\u001b[1;31m:\u001b[0m invalid syntax\n"
     ]
    }
   ],
   "source": [
    "for user in users:\n",
    "    print(user)\n",
    "    \n",
    "user['스펜서' == user['name'] for user in users:] += 35000 "
   ]
  },
  {
   "cell_type": "code",
   "execution_count": 63,
   "metadata": {},
   "outputs": [
    {
     "data": {
      "text/plain": [
       "{'name': '머쓱이', 'part': 'AI', 'pay': 50000}"
      ]
     },
     "execution_count": 63,
     "metadata": {},
     "output_type": "execute_result"
    }
   ],
   "source": [
    "user = users[0]\n",
    "user"
   ]
  },
  {
   "cell_type": "code",
   "execution_count": 70,
   "metadata": {},
   "outputs": [
    {
     "name": "stdout",
     "output_type": "stream",
     "text": [
      "name > 머쓱이\n",
      "part > AI\n",
      "pay > 50000\n"
     ]
    }
   ],
   "source": [
    "for key, value in user.items():\n",
    "    print(key, \">\", value)"
   ]
  },
  {
   "cell_type": "code",
   "execution_count": 74,
   "metadata": {},
   "outputs": [],
   "source": [
    "numbers = [-3, 3, 6, -6, 4, 6, 8, 1, 0, 2, 0, -5]\n",
    "while numbers.pop() > 0:\n",
    "   print(numbers) "
   ]
  },
  {
   "cell_type": "code",
   "execution_count": 80,
   "metadata": {},
   "outputs": [
    {
     "data": {
      "text/plain": [
       "[{'name': '머쓱이', 'part': 'AI', 'pay': 4500},\n",
       " {'name': '스펜서', 'part': 'BackEnd', 'pay': 10000},\n",
       " {'name': '쓰쓱이', 'part': 'FrontEnd', 'pay': 5500},\n",
       " {'name': '숲헨서', 'part': 'Embedded', 'pay': 5000},\n",
       " {'name': '멍쓱이', 'part': 'IOS', 'pay': 7000},\n",
       " {'name': '수헨서', 'part': 'Android', 'pay': 4000}]"
      ]
     },
     "execution_count": 80,
     "metadata": {},
     "output_type": "execute_result"
    }
   ],
   "source": [
    "users = [\n",
    "    {'name': '머쓱이', 'part': 'AI', 'pay': 2000},\n",
    "    {'name': '스펜서', 'part': 'BackEnd', 'pay': 10000},\n",
    "    {'name': '쓰쓱이', 'part': 'FrontEnd', 'pay': 3000},\n",
    "    {'name': '숲헨서', 'part': 'Embedded', 'pay': 5000},\n",
    "    {'name': '멍쓱이', 'part': 'IOS', 'pay': 7000},\n",
    "    {'name': '수헨서', 'part': 'Android', 'pay': 1500},\n",
    "]\n",
    "i = 0\n",
    "while i < len(users):\n",
    "    if users[i]['pay'] >= 5000:\n",
    "        pass\n",
    "    else:\n",
    "        users[i]['pay'] += 2500\n",
    "    i+=1\n",
    "    \n",
    "users"
   ]
  }
 ],
 "metadata": {
  "kernelspec": {
   "display_name": "pharmaienv",
   "language": "python",
   "name": "python3"
  },
  "language_info": {
   "codemirror_mode": {
    "name": "ipython",
    "version": 3
   },
   "file_extension": ".py",
   "mimetype": "text/x-python",
   "name": "python",
   "nbconvert_exporter": "python",
   "pygments_lexer": "ipython3",
   "version": "3.9.19"
  }
 },
 "nbformat": 4,
 "nbformat_minor": 2
}
