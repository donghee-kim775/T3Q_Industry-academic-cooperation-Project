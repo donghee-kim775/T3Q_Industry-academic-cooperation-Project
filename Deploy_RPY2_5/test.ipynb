{
 "cells": [
  {
   "cell_type": "code",
   "execution_count": 1,
   "metadata": {},
   "outputs": [],
   "source": [
    "import json\n",
    "import re\n",
    "\n",
    "data_dir = \"C:/Users/DCU/Desktop/T3Q_-/DATA/data.json\"\n",
    "with open(data_dir, \"r\") as f:\n",
    "    json_data = json.load(f)\n",
    "    \n",
    "origin_data = json_data[\"data\"][0][0]\n",
    "input = origin_data['formulation']\n",
    "\n",
    "for i in range(len(input)):\n",
    "    origin_excipients = input[i]['excipients']\n",
    "    blank_remove_excipients = origin_excipients.replace(\" \", \".\")\n",
    "    sign_remove_excipients = re.sub(r\"[^\\uAC00-\\uD7A30-9a-zA-Z\\s]\", \".\", blank_remove_excipients)\n",
    "    input[i]['excipients'] = sign_remove_excipients\n"
   ]
  },
  {
   "cell_type": "code",
   "execution_count": 2,
   "metadata": {},
   "outputs": [
    {
     "name": "stdout",
     "output_type": "stream",
     "text": [
      "###### runScript ######\n",
      "###data 전처리 시작###\n",
      "## input ##\n",
      "[{'excipients': 'Acetic.Acid', 'kind': 'General', 'max': {'value': '4.4 %w/v', 'unit': 'Acidifier'}, 'use range': {'min': '-', 'max': '0 ~ 4.4'}, 'input range': {'min': '1', 'max': '12'}}, {'excipients': 'Hydrochloric.Acid', 'kind': 'General', 'max': {'value': '78.09 mg', 'unit': 'Acidifier'}, 'use range': {'min': '-', 'max': '0 ~ 78.09'}, 'input range': {'min': '2', 'max': '24'}}]\n",
      "#### input_df 전처리 시작 ####\n",
      "          excipients input.range.min input.range.max\n",
      "0        Acetic.Acid               1              12\n",
      "1  Hydrochloric.Acid               2              24\n",
      "#### header + cqa 전처리 시작 ####\n",
      "[1] \"tools\"     \"stats\"     \"graphics\"  \"grDevices\" \"utils\"     \"datasets\" \n",
      "[7] \"methods\"   \"base\"     \n",
      "[1] \"tools\"     \"stats\"     \"graphics\"  \"grDevices\" \"utils\"     \"datasets\" \n",
      "[7] \"methods\"   \"base\"     \n",
      "[1] \"##LIBRARY LOAD _ START##\"\n"
     ]
    },
    {
     "name": "stderr",
     "output_type": "stream",
     "text": [
      "Exception ignored from cffi callback <function _consolewrite_ex at 0x00000204D8042040>:\n",
      "Traceback (most recent call last):\n",
      "  File \"c:\\Users\\DCU\\anaconda3\\envs\\pharmaienv\\lib\\site-packages\\rpy2\\rinterface_lib\\callbacks.py\", line 133, in _consolewrite_ex\n",
      "    s = conversion._cchar_to_str_with_maxlen(buf, n, _CCHAR_ENCODING)\n",
      "  File \"c:\\Users\\DCU\\anaconda3\\envs\\pharmaienv\\lib\\site-packages\\rpy2\\rinterface_lib\\conversion.py\", line 138, in _cchar_to_str_with_maxlen\n",
      "    s = ffi.string(c, maxlen).decode(encoding)\n",
      "UnicodeDecodeError: 'utf-8' codec can't decode byte 0xc7 in position 0: invalid continuation byte\n",
      "Exception ignored from cffi callback <function _consolewrite_ex at 0x00000204D8042040>:\n",
      "Traceback (most recent call last):\n",
      "  File \"c:\\Users\\DCU\\anaconda3\\envs\\pharmaienv\\lib\\site-packages\\rpy2\\rinterface_lib\\callbacks.py\", line 133, in _consolewrite_ex\n",
      "    s = conversion._cchar_to_str_with_maxlen(buf, n, _CCHAR_ENCODING)\n",
      "  File \"c:\\Users\\DCU\\anaconda3\\envs\\pharmaienv\\lib\\site-packages\\rpy2\\rinterface_lib\\conversion.py\", line 138, in _cchar_to_str_with_maxlen\n",
      "    s = ffi.string(c, maxlen).decode(encoding)\n",
      "UnicodeDecodeError: 'utf-8' codec can't decode byte 0xc7 in position 0: invalid continuation byte\n",
      "Exception ignored from cffi callback <function _consolewrite_ex at 0x00000204D8042040>:\n",
      "Traceback (most recent call last):\n",
      "  File \"c:\\Users\\DCU\\anaconda3\\envs\\pharmaienv\\lib\\site-packages\\rpy2\\rinterface_lib\\callbacks.py\", line 133, in _consolewrite_ex\n",
      "    s = conversion._cchar_to_str_with_maxlen(buf, n, _CCHAR_ENCODING)\n",
      "  File \"c:\\Users\\DCU\\anaconda3\\envs\\pharmaienv\\lib\\site-packages\\rpy2\\rinterface_lib\\conversion.py\", line 138, in _cchar_to_str_with_maxlen\n",
      "    s = ffi.string(c, maxlen).decode(encoding)\n",
      "UnicodeDecodeError: 'utf-8' codec can't decode byte 0xc7 in position 0: invalid continuation byte\n",
      "Exception ignored from cffi callback <function _consolewrite_ex at 0x00000204D8042040>:\n",
      "Traceback (most recent call last):\n",
      "  File \"c:\\Users\\DCU\\anaconda3\\envs\\pharmaienv\\lib\\site-packages\\rpy2\\rinterface_lib\\callbacks.py\", line 133, in _consolewrite_ex\n",
      "    s = conversion._cchar_to_str_with_maxlen(buf, n, _CCHAR_ENCODING)\n",
      "  File \"c:\\Users\\DCU\\anaconda3\\envs\\pharmaienv\\lib\\site-packages\\rpy2\\rinterface_lib\\conversion.py\", line 138, in _cchar_to_str_with_maxlen\n",
      "    s = ffi.string(c, maxlen).decode(encoding)\n",
      "UnicodeDecodeError: 'utf-8' codec can't decode byte 0xc7 in position 0: invalid continuation byte\n",
      "R[write to console]: Registered S3 method overwritten by 'DoE.base':\n",
      "  method           from       \n",
      "  factorize.factor conf.design\n",
      "\n",
      "Exception ignored from cffi callback <function _consolewrite_ex at 0x00000204D8042040>:\n",
      "Traceback (most recent call last):\n",
      "  File \"c:\\Users\\DCU\\anaconda3\\envs\\pharmaienv\\lib\\site-packages\\rpy2\\rinterface_lib\\callbacks.py\", line 133, in _consolewrite_ex\n",
      "    s = conversion._cchar_to_str_with_maxlen(buf, n, _CCHAR_ENCODING)\n",
      "  File \"c:\\Users\\DCU\\anaconda3\\envs\\pharmaienv\\lib\\site-packages\\rpy2\\rinterface_lib\\conversion.py\", line 138, in _cchar_to_str_with_maxlen\n",
      "    s = ffi.string(c, maxlen).decode(encoding)\n",
      "UnicodeDecodeError: 'utf-8' codec can't decode byte 0xb4 in position 1: invalid start byte\n",
      "R[write to console]: The following objects are masked from 'package:stats':\n",
      "\n",
      "    aov, lm\n",
      "\n",
      "\n",
      "R[write to console]: The following object is masked from 'package:graphics':\n",
      "\n",
      "    plot.design\n",
      "\n",
      "\n",
      "R[write to console]: The following object is masked from 'package:base':\n",
      "\n",
      "    lengths\n",
      "\n",
      "\n",
      "Exception ignored from cffi callback <function _consolewrite_ex at 0x00000204D8042040>:\n",
      "Traceback (most recent call last):\n",
      "  File \"c:\\Users\\DCU\\anaconda3\\envs\\pharmaienv\\lib\\site-packages\\rpy2\\rinterface_lib\\callbacks.py\", line 133, in _consolewrite_ex\n",
      "    s = conversion._cchar_to_str_with_maxlen(buf, n, _CCHAR_ENCODING)\n",
      "  File \"c:\\Users\\DCU\\anaconda3\\envs\\pharmaienv\\lib\\site-packages\\rpy2\\rinterface_lib\\conversion.py\", line 138, in _cchar_to_str_with_maxlen\n",
      "    s = ffi.string(c, maxlen).decode(encoding)\n",
      "UnicodeDecodeError: 'utf-8' codec can't decode byte 0xc7 in position 0: invalid continuation byte\n",
      "Exception ignored from cffi callback <function _consolewrite_ex at 0x00000204D8042040>:\n",
      "Traceback (most recent call last):\n",
      "  File \"c:\\Users\\DCU\\anaconda3\\envs\\pharmaienv\\lib\\site-packages\\rpy2\\rinterface_lib\\callbacks.py\", line 133, in _consolewrite_ex\n",
      "    s = conversion._cchar_to_str_with_maxlen(buf, n, _CCHAR_ENCODING)\n",
      "  File \"c:\\Users\\DCU\\anaconda3\\envs\\pharmaienv\\lib\\site-packages\\rpy2\\rinterface_lib\\conversion.py\", line 138, in _cchar_to_str_with_maxlen\n",
      "    s = ffi.string(c, maxlen).decode(encoding)\n",
      "UnicodeDecodeError: 'utf-8' codec can't decode byte 0xc7 in position 0: invalid continuation byte\n",
      "Exception ignored from cffi callback <function _consolewrite_ex at 0x00000204D8042040>:\n",
      "Traceback (most recent call last):\n",
      "  File \"c:\\Users\\DCU\\anaconda3\\envs\\pharmaienv\\lib\\site-packages\\rpy2\\rinterface_lib\\callbacks.py\", line 133, in _consolewrite_ex\n",
      "    s = conversion._cchar_to_str_with_maxlen(buf, n, _CCHAR_ENCODING)\n",
      "  File \"c:\\Users\\DCU\\anaconda3\\envs\\pharmaienv\\lib\\site-packages\\rpy2\\rinterface_lib\\conversion.py\", line 138, in _cchar_to_str_with_maxlen\n",
      "    s = ffi.string(c, maxlen).decode(encoding)\n",
      "UnicodeDecodeError: 'utf-8' codec can't decode byte 0xc7 in position 0: invalid continuation byte\n",
      "Exception ignored from cffi callback <function _consolewrite_ex at 0x00000204D8042040>:\n",
      "Traceback (most recent call last):\n",
      "  File \"c:\\Users\\DCU\\anaconda3\\envs\\pharmaienv\\lib\\site-packages\\rpy2\\rinterface_lib\\callbacks.py\", line 133, in _consolewrite_ex\n",
      "    s = conversion._cchar_to_str_with_maxlen(buf, n, _CCHAR_ENCODING)\n",
      "  File \"c:\\Users\\DCU\\anaconda3\\envs\\pharmaienv\\lib\\site-packages\\rpy2\\rinterface_lib\\conversion.py\", line 138, in _cchar_to_str_with_maxlen\n",
      "    s = ffi.string(c, maxlen).decode(encoding)\n",
      "UnicodeDecodeError: 'utf-8' codec can't decode byte 0xc7 in position 0: invalid continuation byte\n",
      "R[write to console]: \n",
      "ALWAYS make sure you DO NOT WORK ON THE ONLY VERSION of your experimental data.\n",
      "ALWAYS keep a copy of your valuable experimental data stored in a safe place!\n",
      "\n",
      "Package RcmdrPlugin.DoE is still under development:\n",
      "The workhorse functions it accesses are reasonably well-tested,\n",
      "but the GUI-interface can be improved regarding at least\n",
      "parsimony of logged commands (but this is no priority).\n",
      "Almost certainly, there will be some bugs for as yet untested user inputs,\n",
      "please report such issues!\n",
      "\n",
      "\n"
     ]
    },
    {
     "name": "stdout",
     "output_type": "stream",
     "text": [
      "[1] \"##LIBRARY LOAD _ END##\"\n",
      "[1] \"create list success\"\n",
      "[1] \"df start\"\n"
     ]
    },
    {
     "name": "stderr",
     "output_type": "stream",
     "text": [
      "R[write to console]: creating full factorial with 4 runs ...\n",
      "\n",
      "\n"
     ]
    },
    {
     "name": "stdout",
     "output_type": "stream",
     "text": [
      "Time difference of 5.159118 secs\n",
      "o{'value': [5.15911794], 'visible': [1] FALSE\n",
      ", }\n"
     ]
    }
   ],
   "source": [
    "import CCDDOE\n",
    "\n",
    "res_dict, code, msg = CCDDOE.runScript(json_data)\n"
   ]
  },
  {
   "cell_type": "code",
   "execution_count": 3,
   "metadata": {},
   "outputs": [
    {
     "data": {
      "text/plain": [
       "{'header': ['Acetic.Acid', 'Hydrochloric.Acid', 'appearance'],\n",
       " 'experiment_data': [{'Acetic.Acid': 1.0, 'Hydrochloric.Acid': 2.0},\n",
       "  {'Acetic.Acid': 1.0, 'Hydrochloric.Acid': 24.0},\n",
       "  {'Acetic.Acid': 12.0, 'Hydrochloric.Acid': 2.0},\n",
       "  {'Acetic.Acid': 12.0, 'Hydrochloric.Acid': 24.0},\n",
       "  {'Acetic.Acid': 6.5, 'Hydrochloric.Acid': 13.0},\n",
       "  {'Acetic.Acid': 6.5, 'Hydrochloric.Acid': 13.0},\n",
       "  {'Acetic.Acid': 6.5, 'Hydrochloric.Acid': 13.0},\n",
       "  {'Acetic.Acid': 6.5, 'Hydrochloric.Acid': 13.0},\n",
       "  {'Acetic.Acid': 6.5, 'Hydrochloric.Acid': 13.0},\n",
       "  {'Acetic.Acid': 6.5, 'Hydrochloric.Acid': 2.0},\n",
       "  {'Acetic.Acid': 6.5, 'Hydrochloric.Acid': 24.0},\n",
       "  {'Acetic.Acid': 1.0, 'Hydrochloric.Acid': 13.0},\n",
       "  {'Acetic.Acid': 12.0, 'Hydrochloric.Acid': 13.0},\n",
       "  {'Acetic.Acid': 6.5, 'Hydrochloric.Acid': 13.0}]}"
      ]
     },
     "execution_count": 3,
     "metadata": {},
     "output_type": "execute_result"
    },
    {
     "ename": "",
     "evalue": "",
     "output_type": "error",
     "traceback": [
      "\u001b[1;31mThe Kernel crashed while executing code in the current cell or a previous cell. \n",
      "\u001b[1;31mPlease review the code in the cell(s) to identify a possible cause of the failure. \n",
      "\u001b[1;31mClick <a href='https://aka.ms/vscodeJupyterKernelCrash'>here</a> for more info. \n",
      "\u001b[1;31mView Jupyter <a href='command:jupyter.viewOutput'>log</a> for further details."
     ]
    }
   ],
   "source": [
    "res_dict"
   ]
  }
 ],
 "metadata": {
  "kernelspec": {
   "display_name": "pharmaienv",
   "language": "python",
   "name": "python3"
  },
  "language_info": {
   "codemirror_mode": {
    "name": "ipython",
    "version": 3
   },
   "file_extension": ".py",
   "mimetype": "text/x-python",
   "name": "python",
   "nbconvert_exporter": "python",
   "pygments_lexer": "ipython3",
   "version": "3.9.19"
  }
 },
 "nbformat": 4,
 "nbformat_minor": 2
}
